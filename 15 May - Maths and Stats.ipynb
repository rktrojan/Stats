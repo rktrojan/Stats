{
 "cells": [
  {
   "cell_type": "code",
   "execution_count": 73,
   "id": "f521c9f3",
   "metadata": {},
   "outputs": [],
   "source": [
    "\n",
    "import math"
   ]
  },
  {
   "cell_type": "code",
   "execution_count": 74,
   "id": "f31a0203",
   "metadata": {},
   "outputs": [
    {
     "data": {
      "text/plain": [
       "22026.465794806718"
      ]
     },
     "execution_count": 74,
     "metadata": {},
     "output_type": "execute_result"
    }
   ],
   "source": [
    "math.exp(10)\n"
   ]
  },
  {
   "cell_type": "code",
   "execution_count": 20,
   "id": "ff8c7b7a",
   "metadata": {},
   "outputs": [],
   "source": [
    "\n",
    "\n",
    "x = [1,2,3,4,5,6,7,8,12,15,18,22,33,37,44]\n",
    "\n",
    "y1 = list(map(lambda i:i*i,x))\n",
    "\n",
    "y2 = x\n",
    "\n",
    "\n",
    "\n",
    "\n"
   ]
  },
  {
   "cell_type": "code",
   "execution_count": 22,
   "id": "70b4d63c",
   "metadata": {},
   "outputs": [],
   "source": [
    "import numpy as np\n",
    "\n",
    "y = np.add (y1,y2)"
   ]
  },
  {
   "cell_type": "code",
   "execution_count": 24,
   "id": "8b7d8b70",
   "metadata": {},
   "outputs": [
    {
     "data": {
      "text/plain": [
       "array([   2,    6,   12,   20,   30,   42,   56,   72,  156,  240,  342,\n",
       "        506, 1122, 1406, 1980])"
      ]
     },
     "execution_count": 24,
     "metadata": {},
     "output_type": "execute_result"
    }
   ],
   "source": [
    "y\n",
    "\n"
   ]
  },
  {
   "cell_type": "code",
   "execution_count": 26,
   "id": "35871e72",
   "metadata": {},
   "outputs": [
    {
     "data": {
      "text/plain": [
       "[1, 2, 3, 4, 5, 6, 7, 8, 12, 15, 18, 22, 33, 37, 44]"
      ]
     },
     "execution_count": 26,
     "metadata": {},
     "output_type": "execute_result"
    }
   ],
   "source": [
    "x"
   ]
  },
  {
   "cell_type": "code",
   "execution_count": 34,
   "id": "15791e24",
   "metadata": {},
   "outputs": [
    {
     "data": {
      "text/plain": [
       "[2.718281828459045,\n",
       " 7.38905609893065,\n",
       " 20.085536923187668,\n",
       " 54.598150033144236,\n",
       " 148.4131591025766,\n",
       " 403.4287934927351,\n",
       " 1096.6331584284585,\n",
       " 2980.9579870417283,\n",
       " 162754.79141900392,\n",
       " 3269017.3724721107,\n",
       " 65659969.13733051,\n",
       " 3584912846.131592,\n",
       " 214643579785916.06,\n",
       " 1.1719142372802612e+16,\n",
       " 1.2851600114359308e+19]"
      ]
     },
     "execution_count": 34,
     "metadata": {},
     "output_type": "execute_result"
    }
   ],
   "source": [
    "from math import *\n",
    "\n",
    "y= list(map(lambda i:exp(i),x))\n",
    "\n",
    "y"
   ]
  },
  {
   "cell_type": "code",
   "execution_count": 30,
   "id": "d77ca4fb",
   "metadata": {},
   "outputs": [
    {
     "data": {
      "text/plain": [
       "[<matplotlib.lines.Line2D at 0x1736d6040a0>]"
      ]
     },
     "execution_count": 30,
     "metadata": {},
     "output_type": "execute_result"
    },
    {
     "data": {
      "image/png": "[encoded data removed]",
      "text/plain": [
       "<Figure size 432x288 with 1 Axes>"
      ]
     },
     "metadata": {
      "needs_background": "light"
     },
     "output_type": "display_data"
    }
   ],
   "source": [
    "import matplotlib.pyplot as plt\n",
    "\n",
    "plt.plot(x,y)\n",
    "\n",
    "\n"
   ]
  },
  {
   "cell_type": "code",
   "execution_count": 1,
   "id": "22fc204d",
   "metadata": {},
   "outputs": [
    {
     "data": {
      "text/plain": [
       "9"
      ]
     },
     "execution_count": 1,
     "metadata": {},
     "output_type": "execute_result"
    }
   ],
   "source": [
    "x=3\n",
    "\n",
    "y=x*x\n",
    "\n",
    "y"
   ]
  },
  {
   "cell_type": "code",
   "execution_count": 43,
   "id": "907f9e92",
   "metadata": {},
   "outputs": [
    {
     "data": {
      "text/plain": [
       "[2.718281828459045,\n",
       " 7.38905609893065,\n",
       " 20.085536923187668,\n",
       " 54.598150033144236,\n",
       " 148.4131591025766,\n",
       " 403.4287934927351,\n",
       " 1096.6331584284585,\n",
       " 2980.9579870417283,\n",
       " 162754.79141900392,\n",
       " 3269017.3724721107,\n",
       " 65659969.13733051]"
      ]
     },
     "execution_count": 43,
     "metadata": {},
     "output_type": "execute_result"
    }
   ],
   "source": [
    "y = map(math.exp,x)\n",
    "\n",
    "yy = list(y)\n",
    "\n",
    "yy"
   ]
  },
  {
   "cell_type": "code",
   "execution_count": 44,
   "id": "48d43e15",
   "metadata": {},
   "outputs": [
    {
     "data": {
      "text/plain": [
       "[<matplotlib.lines.Line2D at 0x1a760d8c8e0>]"
      ]
     },
     "execution_count": 44,
     "metadata": {},
     "output_type": "execute_result"
    },
    {
     "data": {
      "image/png": "[encoded data removed]",
      "text/plain": [
       "<Figure size 432x288 with 1 Axes>"
      ]
     },
     "metadata": {
      "needs_background": "light"
     },
     "output_type": "display_data"
    }
   ],
   "source": [
    "import matplotlib.pyplot as plt\n",
    "\n",
    "plt.plot(x,yy)"
   ]
  },
  {
   "cell_type": "code",
   "execution_count": 47,
   "id": "35c799bd",
   "metadata": {},
   "outputs": [],
   "source": [
    "import numpy as np\n",
    "\n",
    "p=77"
   ]
  },
  {
   "cell_type": "markdown",
   "id": "7baa1c6a",
   "metadata": {},
   "source": [
    "# CALCULUS"
   ]
  },
  {
   "cell_type": "code",
   "execution_count": null,
   "id": "b78b07ef",
   "metadata": {},
   "outputs": [],
   "source": []
  },
  {
   "cell_type": "code",
   "execution_count": 64,
   "id": "26b63f61",
   "metadata": {},
   "outputs": [
    {
     "data": {
      "text/latex": [
       "$\\displaystyle 2 p$"
      ],
      "text/plain": [
       "2*p"
      ]
     },
     "execution_count": 64,
     "metadata": {},
     "output_type": "execute_result"
    }
   ],
   "source": [
    "from sympy import Symbol\n",
    "\n",
    "p = Symbol('p')\n",
    "x = Symbol('x')\n",
    "\n",
    "\n"
   ]
  },
  {
   "cell_type": "code",
   "execution_count": 49,
   "id": "5f406e14",
   "metadata": {},
   "outputs": [],
   "source": [
    "import math\n",
    "\n",
    "import sympy as sp \n"
   ]
  },
  {
   "cell_type": "code",
   "execution_count": 71,
   "id": "43b21328",
   "metadata": {},
   "outputs": [
    {
     "data": {
      "text/latex": [
       "$\\displaystyle p^{200}$"
      ],
      "text/plain": [
       "p**200"
      ]
     },
     "execution_count": 71,
     "metadata": {},
     "output_type": "execute_result"
    }
   ],
   "source": [
    "pow(p,200)"
   ]
  },
  {
   "cell_type": "code",
   "execution_count": 72,
   "id": "c26bb287",
   "metadata": {},
   "outputs": [
    {
     "data": {
      "text/latex": [
       "$\\displaystyle 500 p^{499}$"
      ],
      "text/plain": [
       "500*p**499"
      ]
     },
     "execution_count": 72,
     "metadata": {},
     "output_type": "execute_result"
    }
   ],
   "source": [
    "\n",
    "sp.diff(pow(p,500),p)\n",
    "\n"
   ]
  },
  {
   "cell_type": "code",
   "execution_count": 68,
   "id": "1772d054",
   "metadata": {},
   "outputs": [
    {
     "data": {
      "text/latex": [
       "$\\displaystyle \\frac{1000}{3}$"
      ],
      "text/plain": [
       "1000/3"
      ]
     },
     "execution_count": 68,
     "metadata": {},
     "output_type": "execute_result"
    }
   ],
   "source": [
    "\n",
    "\n",
    "sp.integrate(x*x,(x,0,10))\n"
   ]
  },
  {
   "cell_type": "markdown",
   "id": "2b3b8945",
   "metadata": {},
   "source": [
    "# study links:"
   ]
  },
  {
   "cell_type": "code",
   "execution_count": null,
   "id": "a0d69a06",
   "metadata": {},
   "outputs": [],
   "source": [
    "https://towardsdatascience.com/mathematics-for-data-science-e53939ee8306"
   ]
  },
  {
   "cell_type": "code",
   "execution_count": null,
   "id": "a28b41b0",
   "metadata": {},
   "outputs": [],
   "source": [
    "https://www.statology.org/conditional-probability-real-life-examples/#:~:text=One%20of%20the%20most%20common%20real%20life%20examples,two%20probabilities%20are%20known%3A%20P%20%28cloudy%29%20%3D%200.25"
   ]
  },
  {
   "cell_type": "code",
   "execution_count": null,
   "id": "d29d9dbc",
   "metadata": {},
   "outputs": [],
   "source": [
    "https://www.mathsisfun.com/calculus/integration-introduction.html"
   ]
  }
 ],
 "metadata": {
  "kernelspec": {
   "display_name": "Python 3 (ipykernel)",
   "language": "python",
   "name": "python3"
  },
  "language_info": {
   "codemirror_mode": {
    "name": "ipython",
    "version": 3
   },
   "file_extension": ".py",
   "mimetype": "text/x-python",
   "name": "python",
   "nbconvert_exporter": "python",
   "pygments_lexer": "ipython3",
   "version": "3.9.7"
  }
 },
 "nbformat": 4,
 "nbformat_minor": 5
}
